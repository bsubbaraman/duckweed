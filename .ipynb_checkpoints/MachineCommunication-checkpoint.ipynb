{
 "cells": [
  {
   "cell_type": "code",
   "execution_count": 1,
   "id": "e4af6382-3c97-4f73-a21f-8d04a2568f6c",
   "metadata": {},
   "outputs": [],
   "source": [
    "import serial\n",
    "from serial.tools import list_ports"
   ]
  },
  {
   "cell_type": "code",
   "execution_count": null,
   "id": "d63834b8-c99d-4baa-beb2-0614db194aa2",
   "metadata": {},
   "outputs": [],
   "source": [
    "class MachineCommunication:\n",
    "    \n",
    "    def __init__(self, port, baudRate == 115200):\n",
    "        self.ser = serial.Serial(port, baudRate) \n",
    "        this.lineEnding = '\\n'\n",
    "        \n",
    "        \n",
    "    def send(cmd):\n",
    "        \"\"\"Send GCode over serial connection\"\"\"\n",
    "        cmd += this.lineEnding\n",
    "        bcmd = cmd.encode('UTF-8')\n",
    "        ser.write(cmd)\n",
    "        \n",
    "\n",
    "    def moveTo(x, y, z, s = 6000):\n",
    "        \"\"\"Move to an absolute (x,y,z) position\n",
    "\n",
    "        Parameters\n",
    "        ----------\n",
    "        x: x position on the bed, in whatever units have been set (default mm)\n",
    "        y: y position on the bed, in whatever units have been set (default mm)\n",
    "        z: z position on the bed, in whatever units have been set (default mm)\n",
    "        s: (optional) speed at which to move (default 6000 mm/min)\n",
    "\n",
    "        Returns\n",
    "        -------\n",
    "        Nothing\n",
    "\n",
    "        \"\"\"\n",
    "        x = \"{0:.2f}\".format(x)\n",
    "        y = \"{0:.2f}\".format(y)\n",
    "        z = \"{0:.2f}\".format(z)\n",
    "        s = \"{0:.2f}\".format(s)\n",
    "        \n",
    "        cmd = f\"G1 X{x} Y{y} Z{z} F{s}\"\n",
    "        this.send(cmd)\n",
    "        \n",
    "    def move(dx = 0, dy = 0, dz = 0, s = 6000):\n",
    "        \"\"\"Move relative to the current position\n",
    "\n",
    "        Parameters\n",
    "        ----------\n",
    "        dx: change in x position, in whatever units have been set (default mm)\n",
    "        dy: change in y position, in whatever units have been set (default mm)\n",
    "        dz: change in z position, in whatever units have been set (default mm)\n",
    "        s: (optional) speed at which to move (default 6000 mm/min)\n",
    "\n",
    "        Returns\n",
    "        -------\n",
    "        Nothing\n",
    "\n",
    "        \"\"\"\n",
    "        dx = \"{0:.2f}\".format(dx)\n",
    "        dy = \"{0:.2f}\".format(dy)\n",
    "        dz = \"{0:.2f}\".format(dz)\n",
    "        s = \"{0:.2f}\".format(s)\n",
    "        \n",
    "        \n",
    "        cmd = f\"G1 X{dx} Y{dy} Z{dz} F{s}\"\n",
    "        this.send(cmd)\n",
    "    \n",
    "    "
   ]
  }
 ],
 "metadata": {
  "kernelspec": {
   "display_name": "Python 3 (ipykernel)",
   "language": "python",
   "name": "python3"
  },
  "language_info": {
   "codemirror_mode": {
    "name": "ipython",
    "version": 3
   },
   "file_extension": ".py",
   "mimetype": "text/x-python",
   "name": "python",
   "nbconvert_exporter": "python",
   "pygments_lexer": "ipython3",
   "version": "3.9.8"
  }
 },
 "nbformat": 4,
 "nbformat_minor": 5
}
