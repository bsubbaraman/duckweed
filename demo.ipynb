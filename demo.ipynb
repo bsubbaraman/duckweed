{
 "cells": [
  {
   "cell_type": "markdown",
   "id": "35e1d8ba-9afd-4f6c-a013-a143a8929843",
   "metadata": {},
   "source": [
    "# Example Duckweed Pickup Workflow\n",
    "\n",
    "This notebook offers an example workflow to pick up & drop of duckweed fronds using a Jubilee outfitted with USB microscope and 10cc syring tools.\n"
   ]
  },
  {
   "cell_type": "code",
   "execution_count": 8,
   "id": "54685b00-5cc4-450b-a813-fd4eb11ea894",
   "metadata": {},
   "outputs": [],
   "source": [
    "from MachineUtils import *\n",
    "from CameraUtils import *\n",
    "import os\n",
    "import yaml"
   ]
  },
  {
   "cell_type": "code",
   "execution_count": null,
   "id": "2dda6911-f77a-45ba-b32b-40b33b4ece10",
   "metadata": {},
   "outputs": [],
   "source": [
    "# We'll need to open the USB microscope as a camera by its index\n",
    "# Check your valid camera indices with this command\n",
    "# if you have multiple, you'll have to try them until you pick the right one\n",
    "\n",
    "getCameraIndices();"
   ]
  },
  {
   "cell_type": "code",
   "execution_count": 9,
   "id": "a77008b5-ade5-463b-9e31-7bb3a8a5fe13",
   "metadata": {},
   "outputs": [],
   "source": [
    "# Change this value to the camera index from above\n",
    "# Check that it gets a frame from the correct camera\n",
    "# %matplotlib inline\n",
    "camIdx = 1\n",
    "frame = getFrame(camIdx); \n",
    "showFrame(frame)"
   ]
  },
  {
   "cell_type": "code",
   "execution_count": 10,
   "id": "1c3c8413-8c6e-4809-a2d7-c0f7d338735b",
   "metadata": {},
   "outputs": [],
   "source": [
    "# Read in your calibration file\n",
    "\n",
    "with open(\"./calibration/distance-calibration.yml\", \"r\") as stream:\n",
    "    try:\n",
    "        distanceCal = yaml.safe_load(stream)\n",
    "    except yaml.YAMLError as exc:\n",
    "        print(exc)\n",
    "        \n",
    "# grab the x & y values\n",
    "# if you've calibrated for distances other than z=50mm, change this accordingly\n",
    "\n",
    "rx = distanceCal['z_50']['x']\n",
    "ry = distanceCal['z_50']['y']"
   ]
  },
  {
   "cell_type": "code",
   "execution_count": 11,
   "id": "b122533a-3ef4-41f1-97e2-7d675d20503e",
   "metadata": {},
   "outputs": [
    {
     "name": "stdout",
     "output_type": "stream",
     "text": [
      "['cu.Bluetooth-Incoming-Port', 'cu.usbserial-14120']\n"
     ]
    }
   ],
   "source": [
    "# Setup your machine connection\n",
    "# List available ports in thie cell\n",
    "\n",
    "ports = serial.tools.list_ports.comports()\n",
    "print([port.name for port in ports]) "
   ]
  },
  {
   "cell_type": "code",
   "execution_count": 12,
   "id": "84a4a841-533a-4ba8-b0e0-077b173c6104",
   "metadata": {},
   "outputs": [],
   "source": [
    "# Choose the correct port from above and establish connection with machine\n",
    "port = '/dev/cu.usbserial-14120'\n",
    "m = MachineCommunication(port)"
   ]
  },
  {
   "cell_type": "code",
   "execution_count": 28,
   "id": "0d4c0b05-fff9-49cf-84e7-eb142d12e648",
   "metadata": {},
   "outputs": [
    {
     "name": "stdout",
     "output_type": "stream",
     "text": [
      "0\n",
      "125.0\n",
      "hello\n",
      "0\n",
      "125.0\n",
      "hello\n",
      "0\n",
      "125.0\n",
      "hello\n",
      "1\n",
      "134.92\n",
      "hello\n",
      "1\n",
      "134.92\n",
      "hello\n",
      "1\n",
      "134.92\n",
      "hello\n"
     ]
    }
   ],
   "source": [
    "# image (a section of) the bed, stepping by the microscope viewport size\n",
    "# To make sure images are stitched together in the correct order, increment in the +x/+y direction\n",
    "\n",
    "xStart = 125 # edit these to image the correct portion of your bed\n",
    "xEnd = 135\n",
    "yStart = 150\n",
    "yEnd = 170\n",
    "\n",
    "images = []\n",
    "row = 0\n",
    "for x in np.arange(xStart, xEnd, rx):\n",
    "    images.insert(row, [])\n",
    "    for y in np.arange(yStart, yEnd, ry):\n",
    "        print(row)\n",
    "        m.moveTo(x=x, y=y)\n",
    "        f = getFrame(camIdx)\n",
    "        images[row].append(f)\n",
    "    row+=1"
   ]
  },
  {
   "cell_type": "code",
   "execution_count": 29,
   "id": "206ca4b2-8a66-40ab-ab10-73f31e6c0539",
   "metadata": {},
   "outputs": [],
   "source": [
    "# stitch the images together\n",
    "for row in range(len(images)):\n",
    "    for i in range(len(images[row])):\n",
    "        cv2.imwrite(f'test{row}{i}.jpg', images[row][i])"
   ]
  },
  {
   "cell_type": "code",
   "execution_count": 4,
   "id": "5955b111-58c4-4d6e-a09e-042077b68846",
   "metadata": {},
   "outputs": [
    {
     "name": "stdout",
     "output_type": "stream",
     "text": [
      "(202.51075268817203, 160.61827956989248)\n"
     ]
    },
    {
     "data": {
      "text/plain": [
       "(202.51075268817203, 160.61827956989248)"
      ]
     },
     "execution_count": 4,
     "metadata": {},
     "output_type": "execute_result"
    }
   ],
   "source": [
    "selectPoint(frame)"
   ]
  },
  {
   "cell_type": "code",
   "execution_count": null,
   "id": "c58687e6-176a-4bfa-be2d-c1baaa3671ee",
   "metadata": {},
   "outputs": [],
   "source": []
  },
  {
   "cell_type": "code",
   "execution_count": null,
   "id": "534ef107-4345-481f-8464-6b5891c0e283",
   "metadata": {},
   "outputs": [],
   "source": []
  }
 ],
 "metadata": {
  "kernelspec": {
   "display_name": ".venv",
   "language": "python",
   "name": ".venv"
  },
  "language_info": {
   "codemirror_mode": {
    "name": "ipython",
    "version": 3
   },
   "file_extension": ".py",
   "mimetype": "text/x-python",
   "name": "python",
   "nbconvert_exporter": "python",
   "pygments_lexer": "ipython3",
   "version": "3.9.9"
  }
 },
 "nbformat": 4,
 "nbformat_minor": 5
}
